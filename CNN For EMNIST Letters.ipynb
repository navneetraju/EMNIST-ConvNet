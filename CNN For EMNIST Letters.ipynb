{
  "nbformat": 4,
  "nbformat_minor": 0,
  "metadata": {
    "colab": {
      "name": "MyCNN.ipynb",
      "version": "0.3.2",
      "provenance": [],
      "collapsed_sections": []
    },
    "kernelspec": {
      "name": "python3",
      "display_name": "Python 3"
    },
    "accelerator": "TPU"
  },
  "cells": [
    {
      "cell_type": "code",
      "metadata": {
        "id": "BZMiN1iByAKk",
        "colab_type": "code",
        "colab": {
          "base_uri": "https://localhost:8080/",
          "height": 230
        },
        "outputId": "01462ee4-adc3-4656-f2af-d160eb8f69ce"
      },
      "source": [
        "#importing the required libraries\n",
        "!pip install emnist\n",
        "from emnist import list_datasets\n",
        "from emnist import extract_training_samples\n",
        "from emnist import extract_test_samples\n",
        "from keras.models import Sequential\n",
        "from keras import layers\n",
        "from keras.layers import Conv2D\n",
        "from keras.layers import MaxPooling2D\n",
        "from keras.layers import Dense\n",
        "from keras.layers import Flatten\n",
        "from keras.layers import Conv1D,MaxPooling1D\n",
        "import numpy as np\n",
        "from keras.utils import to_categorical\n",
        "import matplotlib.pyplot as plt\n",
        "import cv2\n",
        "from google.colab.patches import cv2_imshow\n"
      ],
      "execution_count": 1,
      "outputs": [
        {
          "output_type": "stream",
          "text": [
            "Collecting emnist\n",
            "  Downloading https://files.pythonhosted.org/packages/d1/f4/78b24acbef9e8fe976dda700f16a3606f3b8363b015bc555f8050fbbd8ac/emnist-0.0-py3-none-any.whl\n",
            "Requirement already satisfied: tqdm in /usr/local/lib/python3.6/dist-packages (from emnist) (4.28.1)\n",
            "Requirement already satisfied: numpy in /usr/local/lib/python3.6/dist-packages (from emnist) (1.16.4)\n",
            "Requirement already satisfied: requests in /usr/local/lib/python3.6/dist-packages (from emnist) (2.21.0)\n",
            "Requirement already satisfied: chardet<3.1.0,>=3.0.2 in /usr/local/lib/python3.6/dist-packages (from requests->emnist) (3.0.4)\n",
            "Requirement already satisfied: certifi>=2017.4.17 in /usr/local/lib/python3.6/dist-packages (from requests->emnist) (2019.6.16)\n",
            "Requirement already satisfied: idna<2.9,>=2.5 in /usr/local/lib/python3.6/dist-packages (from requests->emnist) (2.8)\n",
            "Requirement already satisfied: urllib3<1.25,>=1.21.1 in /usr/local/lib/python3.6/dist-packages (from requests->emnist) (1.24.3)\n",
            "Installing collected packages: emnist\n",
            "Successfully installed emnist-0.0\n"
          ],
          "name": "stdout"
        },
        {
          "output_type": "stream",
          "text": [
            "Using TensorFlow backend.\n"
          ],
          "name": "stderr"
        }
      ]
    },
    {
      "cell_type": "code",
      "metadata": {
        "id": "WDDwNnwBaeii",
        "colab_type": "code",
        "colab": {}
      },
      "source": [
        "#Creating a dictionary to map letters to numbers based on the EMNIST dataset\n",
        "letters={1:'a',2:'b',3:'c',4:'d',5:'e',6:'f',7:'g',8:'h',9:'i',10:'j',11:'k',12:'l',13:'m',14:'n',15:'o',16:'p',17:'q',18:'r',19:'s',20:'t',21:'u',22:'v',23:'w',24:'x',25:'y',26:'z'}"
      ],
      "execution_count": 0,
      "outputs": []
    },
    {
      "cell_type": "code",
      "metadata": {
        "id": "kGjUIVLXyVZg",
        "colab_type": "code",
        "colab": {
          "base_uri": "https://localhost:8080/",
          "height": 88
        },
        "outputId": "f8a3cf84-de2c-4187-ea54-e6ff9b72c64e"
      },
      "source": [
        "#Load the test and train samples and see the kind of data we have\n",
        "train_images,train_labels=extract_training_samples('letters')\n",
        "test_images,test_labels=extract_test_samples('letters')\n",
        "print('Number of Training Images: '+str(train_images.shape[0]))\n",
        "print('Number of Test images: '+str(test_images.shape[0]))\n",
        "print('Shape of Image: '+str(train_images.shape[1:3]))"
      ],
      "execution_count": 2,
      "outputs": [
        {
          "output_type": "stream",
          "text": [
            "Downloading emnist.zip: 536MB [00:05, 93.9MB/s]\n"
          ],
          "name": "stderr"
        },
        {
          "output_type": "stream",
          "text": [
            "Number of Training Images: 124800\n",
            "Number of Test images: 20800\n",
            "Shape of Image: (28, 28)\n"
          ],
          "name": "stdout"
        }
      ]
    },
    {
      "cell_type": "code",
      "metadata": {
        "id": "vLD91GUb4RUh",
        "colab_type": "code",
        "colab": {
          "base_uri": "https://localhost:8080/",
          "height": 35
        },
        "outputId": "4621f6b2-1937-414c-ba46-0e48ff8aedad"
      },
      "source": [
        "#Reshape the images to fit our keras model\n",
        "test_images = test_images.reshape(test_images.shape[0], 1, 28, 28)\n",
        "train_images = train_images.reshape(train_images.shape[0], 1, 28, 28)\n",
        "input_shape = (1, 28, 28)\n",
        "#more reshaping to normalize the image\n",
        "train_images = train_images.astype('float32')\n",
        "test_images = test_images.astype('float32')\n",
        "train_images /= 255\n",
        "test_images /= 255\n",
        "print('train_images shape:', train_images.shape)\n",
        "print('test_images shape:', test_images.shape)"
      ],
      "execution_count": 4,
      "outputs": [
        {
          "output_type": "stream",
          "text": [
            "train_images shape: (124800, 1, 28, 28)\n"
          ],
          "name": "stdout"
        }
      ]
    },
    {
      "cell_type": "code",
      "metadata": {
        "id": "TV8IFmtz6ApQ",
        "colab_type": "code",
        "colab": {
          "base_uri": "https://localhost:8080/",
          "height": 52
        },
        "outputId": "cecf7616-2497-4fe8-e288-839c7cdfa9a1"
      },
      "source": [
        "#Formating the labels to a one-hot encoding format with 26 classes\n",
        "print('Shape of labels before formatting:'+str(train_labels.shape))\n",
        "train_labels=train_labels-1\n",
        "test_labels=test_labels-1\n",
        "train_labels = to_categorical(train_labels,num_classes=26)\n",
        "test_labels=to_categorical(test_labels,num_classes=26)\n",
        "print('Shape of labels after formatting:'+str(train_labels.shape)"
      ],
      "execution_count": 5,
      "outputs": [
        {
          "output_type": "stream",
          "text": [
            "(124800,)\n",
            "(124800, 26)\n"
          ],
          "name": "stdout"
        }
      ]
    },
    {
      "cell_type": "code",
      "metadata": {
        "id": "PO8zPIb-zKDN",
        "colab_type": "code",
        "colab": {
          "base_uri": "https://localhost:8080/",
          "height": 268
        },
        "outputId": "12cf7627-1f74-4f5f-8380-b7958805bde7"
      },
      "source": [
        "#Defining the model\n",
        "model=Sequential()\n",
        "model.add(Conv2D(filters=8,kernel_size=(3,3),strides=(1,1),padding='valid',activation='relu',kernel_initializer='he_normal',input_shape=input_shape,data_format='channels_first'))\n",
        "model.add(MaxPooling2D(pool_size=(2, 2), strides=(2,2), padding='valid'))\n",
        "#model.add(Conv2D(filters=16,kernel_size=(3,3),strides=(1,1),padding='valid',activation='relu',kernel_initializer='he_normal'))\n",
        "#model.add(MaxPooling2D(pool_size=(2, 2), strides=(2,2), padding='valid'))\n",
        "model.add(Flatten())\n",
        "model.add(Dense(units=128,activation='relu'))\n",
        "model.add(Dense(units=26,activation='softmax'))"
      ],
      "execution_count": 7,
      "outputs": [
        {
          "output_type": "stream",
          "text": [
            "WARNING: Logging before flag parsing goes to stderr.\n",
            "W0728 16:46:48.212764 140710391883648 deprecation_wrapper.py:119] From /usr/local/lib/python3.6/dist-packages/keras/backend/tensorflow_backend.py:74: The name tf.get_default_graph is deprecated. Please use tf.compat.v1.get_default_graph instead.\n",
            "\n",
            "W0728 16:46:48.256663 140710391883648 deprecation_wrapper.py:119] From /usr/local/lib/python3.6/dist-packages/keras/backend/tensorflow_backend.py:517: The name tf.placeholder is deprecated. Please use tf.compat.v1.placeholder instead.\n",
            "\n",
            "W0728 16:46:48.274863 140710391883648 deprecation_wrapper.py:119] From /usr/local/lib/python3.6/dist-packages/keras/backend/tensorflow_backend.py:4185: The name tf.truncated_normal is deprecated. Please use tf.random.truncated_normal instead.\n",
            "\n",
            "W0728 16:46:48.296724 140710391883648 deprecation_wrapper.py:119] From /usr/local/lib/python3.6/dist-packages/keras/backend/tensorflow_backend.py:174: The name tf.get_default_session is deprecated. Please use tf.compat.v1.get_default_session instead.\n",
            "\n",
            "W0728 16:46:48.298025 140710391883648 deprecation_wrapper.py:119] From /usr/local/lib/python3.6/dist-packages/keras/backend/tensorflow_backend.py:181: The name tf.ConfigProto is deprecated. Please use tf.compat.v1.ConfigProto instead.\n",
            "\n",
            "W0728 16:46:48.606614 140710391883648 deprecation_wrapper.py:119] From /usr/local/lib/python3.6/dist-packages/keras/backend/tensorflow_backend.py:3976: The name tf.nn.max_pool is deprecated. Please use tf.nn.max_pool2d instead.\n",
            "\n"
          ],
          "name": "stderr"
        }
      ]
    },
    {
      "cell_type": "code",
      "metadata": {
        "id": "H8tVfL4M2AOD",
        "colab_type": "code",
        "colab": {
          "base_uri": "https://localhost:8080/",
          "height": 72
        },
        "outputId": "68b90cad-3d2d-43f0-d81a-9a8690e40ab2"
      },
      "source": [
        "#Compiling our model by defining the loss function,optimizer and metrics\n",
        "model.compile(loss='categorical_crossentropy',\n",
        "             optimizer='adam',\n",
        "             metrics=['accuracy'])"
      ],
      "execution_count": 8,
      "outputs": [
        {
          "output_type": "stream",
          "text": [
            "W0728 16:46:52.289806 140710391883648 deprecation_wrapper.py:119] From /usr/local/lib/python3.6/dist-packages/keras/optimizers.py:790: The name tf.train.Optimizer is deprecated. Please use tf.compat.v1.train.Optimizer instead.\n",
            "\n"
          ],
          "name": "stderr"
        }
      ]
    },
    {
      "cell_type": "code",
      "metadata": {
        "id": "INZWB_s92RuY",
        "colab_type": "code",
        "colab": {
          "base_uri": "https://localhost:8080/",
          "height": 1000
        },
        "outputId": "66eebe5a-e544-4c4d-9c2a-db9f4541b9aa"
      },
      "source": [
        "#Training our model and storing the logs in history\n",
        "history=model.fit(train_images,train_labels,epochs=30,batch_size=32)"
      ],
      "execution_count": 9,
      "outputs": [
        {
          "output_type": "stream",
          "text": [
            "W0728 16:46:58.865260 140710391883648 deprecation.py:323] From /usr/local/lib/python3.6/dist-packages/tensorflow/python/ops/math_grad.py:1250: add_dispatch_support.<locals>.wrapper (from tensorflow.python.ops.array_ops) is deprecated and will be removed in a future version.\n",
            "Instructions for updating:\n",
            "Use tf.where in 2.0, which has the same broadcast rule as np.where\n"
          ],
          "name": "stderr"
        },
        {
          "output_type": "stream",
          "text": [
            "Epoch 1/30\n",
            "124800/124800 [==============================] - 54s 430us/step - loss: 0.5791 - acc: 0.8233\n",
            "Epoch 2/30\n",
            "124800/124800 [==============================] - 53s 422us/step - loss: 0.3072 - acc: 0.8999\n",
            "Epoch 3/30\n",
            "124800/124800 [==============================] - 53s 422us/step - loss: 0.2480 - acc: 0.9176\n",
            "Epoch 4/30\n",
            "124800/124800 [==============================] - 54s 429us/step - loss: 0.2117 - acc: 0.9274\n",
            "Epoch 5/30\n",
            "124800/124800 [==============================] - 54s 430us/step - loss: 0.1858 - acc: 0.9348\n",
            "Epoch 6/30\n",
            "124800/124800 [==============================] - 53s 427us/step - loss: 0.1652 - acc: 0.9411\n",
            "Epoch 7/30\n",
            "124800/124800 [==============================] - 54s 429us/step - loss: 0.1486 - acc: 0.9454\n",
            "Epoch 8/30\n",
            "124800/124800 [==============================] - 54s 434us/step - loss: 0.1341 - acc: 0.9499\n",
            "Epoch 9/30\n",
            "124800/124800 [==============================] - 53s 426us/step - loss: 0.1226 - acc: 0.9543\n",
            "Epoch 10/30\n",
            "124800/124800 [==============================] - 53s 427us/step - loss: 0.1114 - acc: 0.9574\n",
            "Epoch 11/30\n",
            "124800/124800 [==============================] - 53s 424us/step - loss: 0.1025 - acc: 0.9606\n",
            "Epoch 12/30\n",
            "124800/124800 [==============================] - 53s 424us/step - loss: 0.0954 - acc: 0.9631\n",
            "Epoch 13/30\n",
            "124800/124800 [==============================] - 53s 424us/step - loss: 0.0891 - acc: 0.9650\n",
            "Epoch 14/30\n",
            "124800/124800 [==============================] - 54s 432us/step - loss: 0.0832 - acc: 0.9672\n",
            "Epoch 15/30\n",
            "124800/124800 [==============================] - 53s 424us/step - loss: 0.0773 - acc: 0.9698\n",
            "Epoch 16/30\n",
            "124800/124800 [==============================] - 53s 423us/step - loss: 0.0745 - acc: 0.9701\n",
            "Epoch 17/30\n",
            "124800/124800 [==============================] - 53s 425us/step - loss: 0.0702 - acc: 0.9720\n",
            "Epoch 18/30\n",
            "124800/124800 [==============================] - 53s 425us/step - loss: 0.0665 - acc: 0.9733\n",
            "Epoch 19/30\n",
            "124800/124800 [==============================] - 53s 424us/step - loss: 0.0632 - acc: 0.9747\n",
            "Epoch 20/30\n",
            "124800/124800 [==============================] - 53s 425us/step - loss: 0.0621 - acc: 0.9752\n",
            "Epoch 21/30\n",
            "124800/124800 [==============================] - 52s 421us/step - loss: 0.0586 - acc: 0.9767\n",
            "Epoch 22/30\n",
            "124800/124800 [==============================] - 53s 424us/step - loss: 0.0573 - acc: 0.9769\n",
            "Epoch 23/30\n",
            "124800/124800 [==============================] - 53s 423us/step - loss: 0.0536 - acc: 0.9785\n",
            "Epoch 24/30\n",
            "124800/124800 [==============================] - 53s 423us/step - loss: 0.0542 - acc: 0.9782\n",
            "Epoch 25/30\n",
            "124800/124800 [==============================] - 53s 422us/step - loss: 0.0514 - acc: 0.9792\n",
            "Epoch 26/30\n",
            "124800/124800 [==============================] - 53s 426us/step - loss: 0.0499 - acc: 0.9795\n",
            "Epoch 27/30\n",
            "124800/124800 [==============================] - 53s 422us/step - loss: 0.0482 - acc: 0.9806\n",
            "Epoch 28/30\n",
            "124800/124800 [==============================] - 53s 424us/step - loss: 0.0476 - acc: 0.9808\n",
            "Epoch 29/30\n",
            "124800/124800 [==============================] - 52s 420us/step - loss: 0.0458 - acc: 0.9815\n",
            "Epoch 30/30\n",
            "124800/124800 [==============================] - 52s 420us/step - loss: 0.0445 - acc: 0.9827\n"
          ],
          "name": "stdout"
        }
      ]
    },
    {
      "cell_type": "code",
      "metadata": {
        "id": "lg7Am_wr3LHj",
        "colab_type": "code",
        "colab": {
          "base_uri": "https://localhost:8080/",
          "height": 35
        },
        "outputId": "ad275a7e-d41c-4a50-e9d5-2aa2e2ffb558"
      },
      "source": [
        "#Evaluating the model by testing the images and getting validation loss and accuracy\n",
        "loss_and_metrics = model.evaluate(test_images,test_labels, batch_size=128)"
      ],
      "execution_count": 10,
      "outputs": [
        {
          "output_type": "stream",
          "text": [
            "20800/20800 [==============================] - 3s 129us/step\n"
          ],
          "name": "stdout"
        }
      ]
    },
    {
      "cell_type": "code",
      "metadata": {
        "id": "B3yHhUkuCZGf",
        "colab_type": "code",
        "colab": {
          "base_uri": "https://localhost:8080/",
          "height": 52
        },
        "outputId": "7b5c7ba0-c2f3-44ae-a331-f4186d5e9351"
      },
      "source": [
        "#Validation Loss and Accuracy\n",
        "print(\"Validation Accuracy: \",loss_and_metrics[1])\n",
        "print(\"Validation Loss: \",loss_and_metrics[0])"
      ],
      "execution_count": 11,
      "outputs": [
        {
          "output_type": "stream",
          "text": [
            "Validation Accuracy:  0.90375\n",
            "Validation Loss:  0.5854572358154334\n"
          ],
          "name": "stdout"
        }
      ]
    },
    {
      "cell_type": "code",
      "metadata": {
        "id": "dm-Fyj_gCgNY",
        "colab_type": "code",
        "colab": {
          "base_uri": "https://localhost:8080/",
          "height": 591
        },
        "outputId": "e563c6db-9913-465d-a4b9-473fd7208fae"
      },
      "source": [
        "#Code for seeing how our model has trained\n",
        "\n",
        "# list all data in history\n",
        "print(history.history.keys())\n",
        "# summarize history for accuracy\n",
        "plt.plot(history.history['acc'])\n",
        "#plt.plot(history.history['val_acc'])\n",
        "plt.title('model accuracy')\n",
        "plt.ylabel('accuracy')\n",
        "plt.xlabel('epoch')\n",
        "plt.legend(['train', 'test'], loc='upper left')\n",
        "plt.show()\n",
        "# summarize history for loss\n",
        "plt.plot(history.history['loss'])\n",
        "#plt.plot(history.history['val_loss'])\n",
        "plt.title('model loss')\n",
        "plt.ylabel('loss')\n",
        "plt.xlabel('epoch')\n",
        "plt.legend(['train', 'test'], loc='upper left')\n",
        "plt.show()"
      ],
      "execution_count": 12,
      "outputs": [
        {
          "output_type": "stream",
          "text": [
            "dict_keys(['loss', 'acc'])\n"
          ],
          "name": "stdout"
        },
        {
          "output_type": "display_data",
          "data": {
            "image/png": "[encoded data removed]",
            "text/plain": [
              "<Figure size 432x288 with 1 Axes>"
            ]
          },
          "metadata": {
            "tags": []
          }
        },
        {
          "output_type": "display_data",
          "data": {
            "image/png": "[encoded data removed]",
            "text/plain": [
              "<Figure size 432x288 with 1 Axes>"
            ]
          },
          "metadata": {
            "tags": []
          }
        }
      ]
    },
    {
      "cell_type": "code",
      "metadata": {
        "id": "1Sl9x1aKJ2x_",
        "colab_type": "code",
        "colab": {}
      },
      "source": [
        "#Predicting on test images and getting the labels\n",
        "classes = model.predict(test_images)"
      ],
      "execution_count": 0,
      "outputs": []
    },
    {
      "cell_type": "code",
      "metadata": {
        "id": "NXaktfHlKN15",
        "colab_type": "code",
        "colab": {
          "base_uri": "https://localhost:8080/",
          "height": 287
        },
        "outputId": "e911f810-7015-42df-829d-c737090f408e"
      },
      "source": [
        "#Testing on a random image from the test samples\n",
        "plt.imshow(test_images[15456].reshape(28,28))\n",
        "letters[np.argmax(classes[15456])+1]"
      ],
      "execution_count": 150,
      "outputs": [
        {
          "output_type": "execute_result",
          "data": {
            "text/plain": [
              "'t'"
            ]
          },
          "metadata": {
            "tags": []
          },
          "execution_count": 150
        },
        {
          "output_type": "display_data",
          "data": {
            "image/png": "[encoded data removed]",
            "text/plain": [
              "<Figure size 432x288 with 1 Axes>"
            ]
          },
          "metadata": {
            "tags": []
          }
        }
      ]
    },
    {
      "cell_type": "code",
      "metadata": {
        "id": "6-qz9We7Vdw-",
        "colab_type": "code",
        "colab": {
          "base_uri": "https://localhost:8080/",
          "height": 287
        },
        "outputId": "743f99d4-572f-41fb-ec6d-be29a29f2c11"
      },
      "source": [
        "#Code for testing on your own handwritten letter image\n",
        "img = cv2.imread('C.png')\n",
        "#cv2_imshow(img)\n",
        "img = cv2.resize(img,(28,28))\n",
        "img_gray = cv2.cvtColor(img, cv2.COLOR_BGR2GRAY)\n",
        "img_gray=img_gray/255.0\n",
        "img_gray=1-img_gray\n",
        "plt.imshow(img_gray)\n",
        "y=model.predict(img_gray.reshape(1,1,28,28))\n",
        "print('Predicted Letter: '+letters[np.argmax(y)+1])"
      ],
      "execution_count": 162,
      "outputs": [
        {
          "output_type": "stream",
          "text": [
            "Predicted Letter: c\n"
          ],
          "name": "stdout"
        },
        {
          "output_type": "display_data",
          "data": {
            "image/png": "[encoded data removed]",
            "text/plain": [
              "<Figure size 432x288 with 1 Axes>"
            ]
          },
          "metadata": {
            "tags": []
          }
        }
      ]
    },
    {
      "cell_type": "code",
      "metadata": {
        "id": "GdGnxxTPv9vy",
        "colab_type": "code",
        "colab": {}
      },
      "source": [
        ""
      ],
      "execution_count": 0,
      "outputs": []
    }
  ]
}